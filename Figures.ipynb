{
 "cells": [
  {
   "cell_type": "markdown",
   "metadata": {},
   "source": [
    "<!-- dom:TITLE: Figures 1, 2 and 3 of the paper on _Quantitative storytelling in the making of a composite indicator_ -->\n",
    "# Figures 1, 2 and 3 of the paper on _Quantitative storytelling in the making of a composite indicator_\n",
    "<!-- dom:AUTHOR: s.lopiano@gmail.com -->\n",
    "<!--\n",
    "Author: -->  \n",
    "s.lopiano@gmail.com  \n",
    "Date: **Aug 03, 2019**\n",
    "\n",
    "This notebook describes how the graphical output in the paper _Quantitative storytelling in the making of a composite indicator_ has been \n",
    "produced. The layout has been inspired by this [rich collection](https://www.machinelearningplus.com/plots/top-50-matplotlib-visualizations-the-master-plots-python/?utm_campaign=shareaholic&utm_medium=twitter&utm_source=socialnetwork), which you \n",
    "are invited to browse. \n",
    "\n",
    "## Step 1 - import all the relevant libraries \n",
    "\n",
    "This step is essential to develop your code flow."
   ]
  },
  {
   "cell_type": "code",
   "execution_count": null,
   "metadata": {},
   "outputs": [],
   "source": [
    "import matplotlib.pyplot as plt\n",
    "import numpy as np\n",
    "import pandas as pd"
   ]
  },
  {
   "cell_type": "markdown",
   "metadata": {},
   "source": [
    "## Step 2 - import all the relevant libraries"
   ]
  },
  {
   "cell_type": "code",
   "execution_count": null,
   "metadata": {},
   "outputs": [],
   "source": [
    "df = pd.read_csv('1989-2018_Composite_indicators.csv',header=3,usecols=[0,1])\n",
    "df = df.rename(columns={'Unnamed: 1':'Articles'})\n",
    "df2 = pd.read_excel('Figure2&Figure3.xlsx',sheet_name='sigma',usecols=[0,1,2,3,4])\n",
    "df3 = pd.read_excel('Figure2&Figure3.xlsx',sheet_name='delta',usecols=[0,1,2,3,4])\n",
    "df2 = df2.rename(columns={'Unnamed: 0':'Year'})\n",
    "df3 = df3.rename(columns={'Unnamed: 0':'Year'})"
   ]
  },
  {
   "cell_type": "markdown",
   "metadata": {},
   "source": [
    "## Step 3 - Figure 1\n",
    "\n",
    "We are finally ready to deliver the first figure, where the trend of _composite indicators_ use over the last thirty years is presented."
   ]
  },
  {
   "cell_type": "code",
   "execution_count": null,
   "metadata": {},
   "outputs": [],
   "source": [
    "plt.figure(figsize=(16,10), dpi= 80)\n",
    "plt.plot('YEAR', 'Articles', data=df, color='tab:blue')\n",
    "\n",
    "# Decoration\n",
    "plt.ylim(0, 600)\n",
    "plt.xlim(1988, 2019)\n",
    "plt.xticks(df.YEAR,df.YEAR)\n",
    "plt.xlabel('Year', fontsize=18)\n",
    "plt.ylabel('Papers discussing composite indicators', fontsize=18)\n",
    "plt.grid(axis='both', alpha=.3)\n",
    "\n",
    "# Remove borders\n",
    "plt.gca().spines[\"top\"].set_alpha(0.0)    \n",
    "plt.gca().spines[\"bottom\"].set_alpha(0.3)\n",
    "plt.gca().spines[\"right\"].set_alpha(0.0)    \n",
    "plt.gca().spines[\"left\"].set_alpha(0.3)   \n",
    "plt.show()"
   ]
  },
  {
   "cell_type": "markdown",
   "metadata": {},
   "source": [
    "## Figure 2\n",
    "\n",
    "The code underpinning the drawing of **Figure 2** and **Figure 3** is presented below along the lines of **Figure 1**."
   ]
  },
  {
   "cell_type": "code",
   "execution_count": null,
   "metadata": {},
   "outputs": [],
   "source": [
    "# Define the upper limit, lower limit, interval of Y axis and colors\n",
    "y_LL = (df2.iloc[:, 1:].min().min()/1.1).round(1)\n",
    "y_UL = (df2.iloc[:, 1:].max().max()*1.1).round(1)\n",
    "y_interval = 0.1\n",
    "mycolors = ['tab:red', 'tab:blue', 'tab:green', 'tab:orange']    \n",
    "\n",
    "# Draw Plot and Annotate\n",
    "fig, ax = plt.subplots(1,1,figsize=(16, 9), dpi= 80)    \n",
    "\n",
    "columns = df2.columns[1:]  \n",
    "for i, column in enumerate(columns):    \n",
    "    plt.plot(df2.Year.values, df2.iloc[:,i+1].values, lw=1.5, color=mycolors[i], label = columns[i])\n",
    "    \n",
    "# Draw Tick lines  \n",
    "for y in np.arange(y_LL, y_UL,y_interval):    \n",
    "    plt.hlines(y, xmin=2004, xmax=2018, colors='black', alpha=0.3, linestyles=\"--\", lw=0.5)\n",
    "\n",
    "# Decorations    \n",
    "plt.tick_params(axis=\"both\", which=\"both\", bottom=False, top=False,    \n",
    "                labelbottom=True, left=False, right=False, labelleft=True)        \n",
    "\n",
    "# Lighten borders\n",
    "plt.gca().spines[\"top\"].set_alpha(.3)\n",
    "plt.gca().spines[\"bottom\"].set_alpha(.3)\n",
    "plt.gca().spines[\"right\"].set_alpha(.3)\n",
    "plt.gca().spines[\"left\"].set_alpha(.3)\n",
    "\n",
    "plt.yticks(np.arange(y_LL, y_UL, y_interval).round(1), [str(y) for y in np.arange(y_LL, y_UL, y_interval).round(1)], fontsize=12)    \n",
    "plt.xticks(range(2004, 2019, 1), range(2004, 2019, 1))\n",
    "plt.ylim(0.2,0.5)    \n",
    "plt.xlim(2004,2018)\n",
    "plt.xlabel('Year', fontsize=18)\n",
    "plt.ylabel('Yearly coefficient of variation', fontsize=18)\n",
    "plt.legend()\n",
    "plt.show()"
   ]
  },
  {
   "cell_type": "markdown",
   "metadata": {},
   "source": [
    "## Figure 3\n",
    "\n",
    "```python\n",
    "# Define the upper limit, lower limit, interval of Y axis and colors\n",
    "y_LL = (df3.iloc[:, 1:].min().min()-1).astype(int)\n",
    "y_UL = (df3.iloc[:, 1:].max().max()+1).astype(int)\n",
    "y_interval = 5\n",
    "mycolors = ['tab:red', 'tab:blue', 'tab:green', 'tab:orange']    \n",
    "\n",
    "# Draw Plot and Annotate\n",
    "fig, ax = plt.subplots(1,1,figsize=(16, 9), dpi= 80)    \n",
    "\n",
    "columns = df3.columns[1:]  \n",
    "for i, column in enumerate(columns):    \n",
    "    plt.plot(df3.Year.values, df3.iloc[:,i+1].values, lw=1.5, color=mycolors[i], label = columns[i])\n",
    "    \n",
    "# Draw Tick lines  \n",
    "for y in np.arange(15, 40,y_interval):    \n",
    "    plt.hlines(y, xmin=2004, xmax=2018, colors='black', alpha=0.3, linestyles=\"--\", lw=0.5)\n",
    "\n",
    "# Decorations    \n",
    "plt.tick_params(axis=\"both\", which=\"both\", bottom=False, top=False,    \n",
    "                labelbottom=True, left=False, right=False, labelleft=True)        \n",
    "\n",
    "# Lighten borders\n",
    "plt.gca().spines[\"top\"].set_alpha(.3)\n",
    "plt.gca().spines[\"bottom\"].set_alpha(.3)\n",
    "plt.gca().spines[\"right\"].set_alpha(.3)\n",
    "plt.gca().spines[\"left\"].set_alpha(.3)\n",
    "\n",
    "plt.yticks(np.arange(15, 40, y_interval), [str(y) for y in np.arange(15, 40, y_interval)], fontsize=12)    \n",
    "plt.xticks(range(2004, 2019, 1), range(2004, 2019, 1))\n",
    "plt.ylim(y_LL,y_UL)    \n",
    "plt.xlim(2004,2018)\n",
    "plt.xlabel('Year', fontsize=18)\n",
    "plt.ylabel('Yearly standardised Euclidean distance from the frontrunner', fontsize=16)\n",
    "plt.legend()\n",
    "plt.show()\n",
    "```"
   ]
  }
 ],
 "metadata": {
  "kernelspec": {
   "display_name": "Python 3",
   "language": "python",
   "name": "python3"
  },
  "language_info": {
   "codemirror_mode": {
    "name": "ipython",
    "version": 3
   },
   "file_extension": ".py",
   "mimetype": "text/x-python",
   "name": "python",
   "nbconvert_exporter": "python",
   "pygments_lexer": "ipython3",
   "version": "3.7.2"
  }
 },
 "nbformat": 4,
 "nbformat_minor": 2
}
